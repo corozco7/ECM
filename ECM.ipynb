{
  "nbformat": 4,
  "nbformat_minor": 0,
  "metadata": {
    "colab": {
      "name": "ECM.ipynb",
      "provenance": [],
      "collapsed_sections": [],
      "authorship_tag": "ABX9TyNVntUcxUS3dA1fzcZAVMte",
      "include_colab_link": true
    },
    "kernelspec": {
      "name": "python3",
      "display_name": "Python 3"
    }
  },
  "cells": [
    {
      "cell_type": "markdown",
      "metadata": {
        "id": "view-in-github",
        "colab_type": "text"
      },
      "source": [
        "<a href=\"https://colab.research.google.com/github/corozco7/ECM/blob/main/ECM.ipynb\" target=\"_parent\"><img src=\"https://colab.research.google.com/assets/colab-badge.svg\" alt=\"Open In Colab\"/></a>"
      ]
    },
    {
      "cell_type": "code",
      "metadata": {
        "colab": {
          "base_uri": "https://localhost:8080/",
          "height": 282
        },
        "id": "PcayaYf3Rmp2",
        "outputId": "a3e73444-f225-44f2-b1a3-01ced828198f"
      },
      "source": [
        "import numpy as np\r\n",
        "import matplotlib.pyplot as plt\r\n",
        "\r\n",
        "x = [0, 20, 30, 40, 50, 60]\r\n",
        "y = [100, 150, 200, 180, 250, 230]\r\n",
        "y_2 = []\r\n",
        "\r\n",
        "def f(m, x, b):\r\n",
        "  return m*x + b\r\n",
        "\r\n",
        "def m(x, y):\r\n",
        "  num = len(x) * sum_xy(x, y) - (sum(x) * sum(y))\r\n",
        "  dem = len(x) * sum_x2(x) - (sum(x))**2\r\n",
        "  return num/dem\r\n",
        "\r\n",
        "def b(x, y):\r\n",
        "  return (sum(y) - (m(x, y) * sum(x)))/len(x)\r\n",
        "\r\n",
        "def sum_x2(x):\r\n",
        "  x2 = 0\r\n",
        "\r\n",
        "  for i in range(len(x)):\r\n",
        "    x2 += x[i]**2\r\n",
        "  \r\n",
        "  return x2\r\n",
        "\r\n",
        "def sum_xy(x, y):\r\n",
        "  xy = 0\r\n",
        "\r\n",
        "  for i in range(len(x)):\r\n",
        "    xy += x[i] * y[i]\r\n",
        "\r\n",
        "  return xy\r\n",
        "\r\n",
        "for x_val in x:\r\n",
        "  y_2.append(round(f(m(x, y), x_val, b(x, y)), 2))\r\n",
        "\r\n",
        "print(y_2)\r\n",
        "\r\n",
        "fig, aux = plt.subplots()\r\n",
        "aux.plot(x, y_2)\r\n",
        "aux.scatter(x, y, color='r')\r\n",
        "aux.grid()\r\n",
        "fig.show()"
      ],
      "execution_count": null,
      "outputs": [
        {
          "output_type": "stream",
          "text": [
            "[106.43, 153.57, 177.14, 200.71, 224.29, 247.86]\n"
          ],
          "name": "stdout"
        },
        {
          "output_type": "display_data",
          "data": {
            "image/png": "[encoded data removed]",
            "text/plain": [
              "<Figure size 432x288 with 1 Axes>"
            ]
          },
          "metadata": {
            "tags": [],
            "needs_background": "light"
          }
        }
      ]
    },
    {
      "cell_type": "code",
      "metadata": {
        "colab": {
          "base_uri": "https://localhost:8080/"
        },
        "id": "zxA_-OteesAi",
        "outputId": "2ed7e59d-bc8c-4d07-df96-fa6b8d8baf90"
      },
      "source": [
        "# Error Cuadratico Medio\r\n",
        "\r\n",
        "def ECM(y, y_2):\r\n",
        "  er = 0\r\n",
        "\r\n",
        "  for i in range(len(y)):\r\n",
        "    er += (y_2[i]- y[i])**2\r\n",
        "  \r\n",
        "  return er/len(y)\r\n",
        "\r\n",
        "ecm = ECM(y, y_2)\r\n",
        "print(f'el error cuadratico medio es {ecm}' )"
      ],
      "execution_count": null,
      "outputs": [
        {
          "output_type": "stream",
          "text": [
            "el error cuadratico medio es 330.92620000000034\n"
          ],
          "name": "stdout"
        }
      ]
    }
  ]
}